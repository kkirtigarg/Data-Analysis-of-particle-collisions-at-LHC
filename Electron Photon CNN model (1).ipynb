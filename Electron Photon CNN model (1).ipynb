{
 "cells": [
  {
   "cell_type": "code",
   "execution_count": 1,
   "id": "69db2b4c-4a81-47c7-a877-5b35ba27e6a3",
   "metadata": {},
   "outputs": [],
   "source": [
    "#Imports\n",
    "import h5py\n",
    "import numpy as np\n",
    "import pandas as pd\n",
    "import matplotlib.pyplot as plt\n",
    "import seaborn as sns\n",
    "import tensorflow as tf\n",
    "from tensorflow import *\n",
    "from tensorflow.keras.models import Sequential\n",
    "from tensorflow.keras import datasets, layers, models\n",
    "from sklearn import datasets, linear_model\n",
    "from sklearn.model_selection import train_test_split\n",
    "from tensorflow.keras.layers import Conv2D, MaxPooling2D, Dense, Flatten, Activation\n",
    "\n",
    "#roc curve and auc\n",
    "from sklearn.datasets import make_classification\n",
    "from sklearn.neighbors import KNeighborsClassifier\n",
    "from sklearn.ensemble import RandomForestClassifier\n",
    "from sklearn.linear_model import LogisticRegression\n",
    "from sklearn.model_selection import train_test_split\n",
    "from sklearn.metrics import roc_curve, roc_auc_score, auc\n",
    "from matplotlib import pyplot\n",
    "\n"
   ]
  },
  {
   "cell_type": "code",
   "execution_count": 2,
   "id": "5edd88aa-af4e-46e6-b35e-6c3b710fa1cd",
   "metadata": {},
   "outputs": [],
   "source": [
    "#Using GPU\n",
    "lr_init = 1.e-3\n",
    "batch_size = 64\n",
    "epochs = 20\n",
    "doGPU=False\n",
    "start = 0\n",
    "stop = 16000"
   ]
  },
  {
   "cell_type": "code",
   "execution_count": 3,
   "id": "22c76df2-afd7-4d96-9d3a-fa06f99e03e4",
   "metadata": {},
   "outputs": [],
   "source": [
    "#Defining a function to load data\n",
    "\n",
    "img_rows, img_cols, nb_channels = 32, 32, 2\n",
    "input_dir = \"/Users/kirtigarg/Others/drive D/Downloads/Downloads 17-5-24/data\"\n",
    "decays = ['SinglePhotonPt50_IMGCROPS_n249k_RHv1', \"SingleElectronPt50_IMGCROPS_n249k_RHv1\"]\n",
    "def load_data(decays, start, stop):\n",
    "    global input_dir\n",
    "    dsets = [h5py.File('%s/%s.hdf5'%(input_dir,decay)) for decay in decays]\n",
    "    # print(dsets)\n",
    "    X = np.concatenate([dset['/X'][start:stop] for dset in dsets])\n",
    "    y = np.concatenate([dset['/y'][start:stop] for dset in dsets])\n",
    "    assert len(X)==len(y)\n",
    "    return X,y"
   ]
  },
  {
   "cell_type": "code",
   "execution_count": 4,
   "id": "abbfa242-ef26-4eb5-a705-bf2f3fd1673f",
   "metadata": {},
   "outputs": [],
   "source": [
    "#Loading data and splitting into training validation and testing sets\n",
    "\n",
    "X,y = load_data(decays, start, stop)\n",
    "X_train, X_test, y_train, y_test = train_test_split(X, y, test_size=0.2, random_state=24)\n",
    "X_train, X_val, y_train, y_val= train_test_split(X_train, y_train, test_size=0.2, random_state=2)\n"
   ]
  },
  {
   "cell_type": "code",
   "execution_count": 5,
   "id": "99280691-6007-462e-8921-ed4cb68f58f8",
   "metadata": {},
   "outputs": [
    {
     "name": "stdout",
     "output_type": "stream",
     "text": [
      "Total number of images in the dataset:  32000\n",
      "Number of Training images:  20480\n",
      "Number of Validation images:  5120\n",
      "Number of Testing images:  6400\n"
     ]
    }
   ],
   "source": [
    "#Number of training and testing samples:\n",
    "print(\"Total number of images in the dataset: \", len(X))\n",
    "print(\"Number of Training images: \", len(X_train))\n",
    "print(\"Number of Validation images: \", len(X_val))\n",
    "print(\"Number of Testing images: \", len(X_test))"
   ]
  },
  {
   "cell_type": "code",
   "execution_count": 6,
   "id": "131f1df5-0d60-49ec-9bce-776a0bb765ad",
   "metadata": {},
   "outputs": [
    {
     "data": {
      "text/plain": [
       "<function matplotlib.pyplot.show(close=None, block=None)>"
      ]
     },
     "execution_count": 6,
     "metadata": {},
     "output_type": "execute_result"
    },
    {
     "data": {
      "image/png": "[encoded data removed]",
      "text/plain": [
       "<Figure size 640x480 with 2 Axes>"
      ]
     },
     "metadata": {},
     "output_type": "display_data"
    }
   ],
   "source": [
    "# A sample image from the dataset\n",
    "plt.figure(1)\n",
    "\n",
    "plt.subplot(221)\n",
    "plt.imshow(X_train[1,:,:,0])\n",
    "plt.title(\"Channel 0: Energy\")\n",
    "plt.grid(True)\n",
    "\n",
    "plt.subplot(222)\n",
    "plt.imshow(X_train[1,:,:,1])\n",
    "plt.title(\"Channel 1:Time\")\n",
    "plt.grid(True)\n",
    "\n",
    "plt.show"
   ]
  },
  {
   "cell_type": "code",
   "execution_count": 7,
   "id": "e8ab8d0a-251f-488c-ae08-67a16f7e98d7",
   "metadata": {},
   "outputs": [
    {
     "name": "stderr",
     "output_type": "stream",
     "text": [
      "/opt/anaconda3/lib/python3.11/site-packages/keras/src/layers/convolutional/base_conv.py:107: UserWarning: Do not pass an `input_shape`/`input_dim` argument to a layer. When using Sequential models, prefer using an `Input(shape)` object as the first layer in the model instead.\n",
      "  super().__init__(activity_regularizer=activity_regularizer, **kwargs)\n"
     ]
    }
   ],
   "source": [
    "#Defining the model\n",
    "model= models.Sequential()\n",
    "model.add(layers.Conv2D(filters=32, kernel_size=(3,3), activation='relu', input_shape=(32,32,2)))\n",
    "model.add(layers.Conv2D(filters=64, kernel_size=(3,3), activation='relu'))\n",
    "model.add(layers.MaxPooling2D((2,2)))\n",
    "model.add(layers.Conv2D(filters=64, kernel_size=(3,3), activation='relu'))\n",
    "model.add(layers.MaxPooling2D((2,2)))\n",
    "model.add(layers.Conv2D(filters=64, kernel_size=(3,3), activation='relu'))\n",
    "model.add(layers.Conv2D(filters=64, kernel_size=(3,3), activation='relu'))\n",
    "model.add(layers.MaxPooling2D((2,2)))\n",
    "model.add(layers.Flatten())\n",
    "model.add(layers.Dense(units=64, activation='relu'))\n",
    "model.add(layers.Dense(units=1, activation='sigmoid'))"
   ]
  },
  {
   "cell_type": "code",
   "execution_count": 8,
   "id": "40124f62-eb50-4da8-a506-2d8669271365",
   "metadata": {},
   "outputs": [],
   "source": [
    "model.compile(\n",
    "    loss=tf.keras.losses.binary_crossentropy,\n",
    "    optimizer=tf.keras.optimizers.Adam(learning_rate=1.e-3),\n",
    "    metrics=['accuracy', tf.keras.metrics.AUC(curve='ROC')]\n",
    ")"
   ]
  },
  {
   "cell_type": "code",
   "execution_count": 9,
   "id": "692d0cb0-33ae-4fb4-9a05-937f25f2cb07",
   "metadata": {},
   "outputs": [
    {
     "name": "stdout",
     "output_type": "stream",
     "text": [
      "Epoch 1/10\n",
      "640/640 - 15s - 24ms/step - accuracy: 0.5718 - auc: 0.6079 - loss: 0.6726 - val_accuracy: 0.5918 - val_auc: 0.6289 - val_loss: 0.6661\n",
      "Epoch 2/10\n",
      "640/640 - 15s - 23ms/step - accuracy: 0.6147 - auc: 0.6556 - loss: 0.6522 - val_accuracy: 0.6146 - val_auc: 0.6450 - val_loss: 0.6567\n",
      "Epoch 3/10\n",
      "640/640 - 15s - 23ms/step - accuracy: 0.6365 - auc: 0.6775 - loss: 0.6397 - val_accuracy: 0.6234 - val_auc: 0.6641 - val_loss: 0.6510\n",
      "Epoch 4/10\n",
      "640/640 - 16s - 24ms/step - accuracy: 0.6554 - auc: 0.6988 - loss: 0.6256 - val_accuracy: 0.6361 - val_auc: 0.6760 - val_loss: 0.6398\n",
      "Epoch 5/10\n",
      "640/640 - 16s - 24ms/step - accuracy: 0.6751 - auc: 0.7231 - loss: 0.6100 - val_accuracy: 0.6434 - val_auc: 0.6923 - val_loss: 0.6310\n",
      "Epoch 6/10\n",
      "640/640 - 15s - 24ms/step - accuracy: 0.6862 - auc: 0.7398 - loss: 0.5979 - val_accuracy: 0.6549 - val_auc: 0.7047 - val_loss: 0.6285\n",
      "Epoch 7/10\n",
      "640/640 - 16s - 25ms/step - accuracy: 0.6971 - auc: 0.7558 - loss: 0.5853 - val_accuracy: 0.6504 - val_auc: 0.7033 - val_loss: 0.6377\n",
      "Epoch 8/10\n",
      "640/640 - 16s - 24ms/step - accuracy: 0.7083 - auc: 0.7673 - loss: 0.5747 - val_accuracy: 0.6494 - val_auc: 0.7039 - val_loss: 0.6531\n",
      "Epoch 9/10\n",
      "640/640 - 15s - 24ms/step - accuracy: 0.7147 - auc: 0.7784 - loss: 0.5643 - val_accuracy: 0.6605 - val_auc: 0.7056 - val_loss: 0.6456\n",
      "Epoch 10/10\n",
      "640/640 - 16s - 24ms/step - accuracy: 0.7273 - auc: 0.7951 - loss: 0.5481 - val_accuracy: 0.6502 - val_auc: 0.6973 - val_loss: 0.6462\n"
     ]
    }
   ],
   "source": [
    "#Fitting the model\n",
    "history= model.fit(X_train, y_train, epochs=10, validation_data=(X_val, y_val),verbose=2)"
   ]
  },
  {
   "cell_type": "code",
   "execution_count": 11,
   "id": "e180dd9e-b02f-47c1-8556-749998045406",
   "metadata": {},
   "outputs": [
    {
     "name": "stdout",
     "output_type": "stream",
     "text": [
      "\u001b[1m200/200\u001b[0m \u001b[32m━━━━━━━━━━━━━━━━━━━━\u001b[0m\u001b[37m\u001b[0m \u001b[1m1s\u001b[0m 6ms/step\n"
     ]
    },
    {
     "data": {
      "image/png": "[encoded data removed]",
      "text/plain": [
       "<Figure size 640x480 with 1 Axes>"
      ]
     },
     "metadata": {},
     "output_type": "display_data"
    }
   ],
   "source": [
    "#Plotting the ROC Curve\n",
    "\n",
    "from sklearn.metrics import roc_curve\n",
    "y_pred = model.predict(X_test).ravel()\n",
    "fpr, tpr, thresholds = roc_curve(y_test, y_pred)\n",
    "from sklearn.metrics import auc\n",
    "auc = auc(fpr, tpr)\n",
    "\n",
    "plt.figure(1)\n",
    "plt.plot([0, 1], [0, 1], 'k--')\n",
    "plt.plot(fpr, tpr, label='ROC (AUC Score= {:.3f})'.format(auc))\n",
    "\n",
    "plt.xlabel('False positive rate')\n",
    "plt.ylabel('True positive rate')\n",
    "plt.title('ROC curve')\n",
    "plt.legend(loc='best')\n",
    "plt.show()"
   ]
  },
  {
   "cell_type": "code",
   "execution_count": 12,
   "id": "64709c7f-1b3b-458d-b50c-e64362f8c5ad",
   "metadata": {},
   "outputs": [
    {
     "name": "stdout",
     "output_type": "stream",
     "text": [
      "Test accuracy: 0.65234375\n"
     ]
    }
   ],
   "source": [
    "acc1= np.equal(y_test,np.round(y_pred)).mean()\n",
    "print(\"Test accuracy:\", acc1)"
   ]
  },
  {
   "cell_type": "code",
   "execution_count": 13,
   "id": "aee85109-111a-497a-b794-323b60c733ab",
   "metadata": {},
   "outputs": [
    {
     "name": "stdout",
     "output_type": "stream",
     "text": [
      "\u001b[1m640/640\u001b[0m \u001b[32m━━━━━━━━━━━━━━━━━━━━\u001b[0m\u001b[37m\u001b[0m \u001b[1m4s\u001b[0m 6ms/step\n",
      "Training accuracy: 0.75927734375\n"
     ]
    }
   ],
   "source": [
    "y_train_pred= model.predict(X_train).ravel()\n",
    "acc= np.equal(y_train,np.round(y_train_pred)).mean()\n",
    "print(\"Training accuracy:\", acc)"
   ]
  },
  {
   "cell_type": "code",
   "execution_count": null,
   "id": "9a6d5caf-2ebb-474a-a63c-e6d5a8321739",
   "metadata": {},
   "outputs": [],
   "source": []
  }
 ],
 "metadata": {
  "kernelspec": {
   "display_name": "Python 3 (ipykernel)",
   "language": "python",
   "name": "python3"
  },
  "language_info": {
   "codemirror_mode": {
    "name": "ipython",
    "version": 3
   },
   "file_extension": ".py",
   "mimetype": "text/x-python",
   "name": "python",
   "nbconvert_exporter": "python",
   "pygments_lexer": "ipython3",
   "version": "3.11.7"
  }
 },
 "nbformat": 4,
 "nbformat_minor": 5
}
