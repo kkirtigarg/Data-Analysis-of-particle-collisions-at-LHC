{
  "cells": [
    {
      "cell_type": "code",
      "execution_count": null,
      "metadata": {
        "id": "P9ljW_6XiFOT"
      },
      "outputs": [],
      "source": [
        "import os, random\n",
        "import numpy as np\n",
        "import pandas as pd\n",
        "import PIL\n",
        "import keras\n",
        "import itertools\n",
        "from PIL import Image\n",
        "from shutil import copyfile\n",
        "# import ibm_boto3\n",
        "# from botocore.client import Config\n",
        "from sklearn.metrics import confusion_matrix, classification_report\n",
        "\n",
        "from sklearn.utils import shuffle\n",
        "from sklearn.model_selection import train_test_split\n",
        "from sklearn import preprocessing\n",
        "from skimage import feature, data, io, measure\n",
        "from sklearn.metrics import confusion_matrix\n",
        "\n",
        "import matplotlib.pyplot as plt\n",
        "from matplotlib import ticker\n",
        "import seaborn as sns\n",
        "%matplotlib inline\n",
        "from keras import backend as K\n",
        "from keras.models import Sequential\n",
        "from keras.layers import Input, Dropout, Flatten, Conv2D, MaxPooling2D, Dense, Activation, Lambda,ZeroPadding2D\n",
        "from keras.optimizers import RMSprop\n",
        "from keras.callbacks import ModelCheckpoint, Callback, EarlyStopping\n",
        "from keras.optimizers import Adam\n",
        "from keras import callbacks\n",
        "from keras.preprocessing.image import ImageDataGenerator, array_to_img, img_to_array, load_img\n",
        "\n",
        "import tensorflow as tf\n",
        "# import tensorflow_addons as tfa\n",
        "\n"
      ]
    },
    {
      "cell_type": "code",
      "source": [
        "from zipfile import ZipFile\n",
        "file_name = '/content/drive/MyDrive/0.1pixel.zip'\n",
        "\n",
        "with ZipFile(file_name, 'r') as zip:\n",
        "  zip.extractall()\n",
        "  print('Done')"
      ],
      "metadata": {
        "colab": {
          "base_uri": "https://localhost:8080/"
        },
        "id": "lygw7_3Wbjt6",
        "outputId": "f5335503-6cca-4e2e-c92f-a022d0039d04"
      },
      "execution_count": null,
      "outputs": [
        {
          "output_type": "stream",
          "name": "stdout",
          "text": [
            "Done\n"
          ]
        }
      ]
    },
    {
      "cell_type": "code",
      "execution_count": null,
      "metadata": {
        "colab": {
          "base_uri": "https://localhost:8080/"
        },
        "id": "VROdV0enfTtw",
        "outputId": "04ef2d92-5855-4968-b514-edccf8057b5c"
      },
      "outputs": [
        {
          "output_type": "stream",
          "name": "stdout",
          "text": [
            "Drive already mounted at /content/drive; to attempt to forcibly remount, call drive.mount(\"/content/drive\", force_remount=True).\n"
          ]
        }
      ],
      "source": [
        "#LOADING ALL IMAGES FROM DRIVE\n",
        "from google.colab import drive\n",
        "drive.mount('/content/drive')\n",
        "import cv2\n",
        "import os\n",
        "\n",
        "def load_images_from_folder(folder):\n",
        "    images = []\n",
        "    names=[]\n",
        "    for filename in os.listdir(folder):\n",
        "        img = cv2.imread(os.path.join(folder, filename))\n",
        "        if img is not None:\n",
        "            images.append(img)\n",
        "            names.append(filename)\n",
        "    return images, names\n",
        "\n",
        "signal, s_names = load_images_from_folder('/content/drive/MyDrive/signal')\n",
        "bg, bg_names = load_images_from_folder('/content/drive/MyDrive/background')\n"
      ]
    },
    {
      "cell_type": "markdown",
      "source": [
        "# New section"
      ],
      "metadata": {
        "id": "2phQDY1YTg98"
      }
    },
    {
      "cell_type": "code",
      "execution_count": null,
      "metadata": {
        "colab": {
          "base_uri": "https://localhost:8080/"
        },
        "id": "tVs7VpjJfvTw",
        "outputId": "3b2e5b6f-c5dc-46f5-bc69-e1a01c374055"
      },
      "outputs": [
        {
          "output_type": "stream",
          "name": "stdout",
          "text": [
            "Number of signal images:  7350\n",
            "Number of background images: 10000\n",
            "(369, 369, 3)\n"
          ]
        }
      ],
      "source": [
        "s=len(signal)\n",
        "b=len(bg)\n",
        "print(\"Number of signal images: \", s)\n",
        "print(\"Number of background images:\", b)\n",
        "print(signal[1].shape)"
      ]
    },
    {
      "cell_type": "code",
      "execution_count": null,
      "metadata": {
        "id": "uKDQMBn_gLqh",
        "colab": {
          "base_uri": "https://localhost:8080/",
          "height": 245
        },
        "outputId": "4d4a580e-0851-4fd6-d98b-12834478e4ab"
      },
      "outputs": [
        {
          "output_type": "error",
          "ename": "FileExistsError",
          "evalue": "ignored",
          "traceback": [
            "\u001b[0;31m---------------------------------------------------------------------------\u001b[0m",
            "\u001b[0;31mFileExistsError\u001b[0m                           Traceback (most recent call last)",
            "\u001b[0;32m<ipython-input-7-d672b9ebe4c7>\u001b[0m in \u001b[0;36m<cell line: 3>\u001b[0;34m()\u001b[0m\n\u001b[1;32m      1\u001b[0m \u001b[0;32mimport\u001b[0m \u001b[0mos\u001b[0m\u001b[0;34m\u001b[0m\u001b[0;34m\u001b[0m\u001b[0m\n\u001b[1;32m      2\u001b[0m \u001b[0;34m\u001b[0m\u001b[0m\n\u001b[0;32m----> 3\u001b[0;31m \u001b[0mos\u001b[0m\u001b[0;34m.\u001b[0m\u001b[0mmkdir\u001b[0m\u001b[0;34m(\u001b[0m\u001b[0;34m'master_data'\u001b[0m\u001b[0;34m)\u001b[0m \u001b[0;31m#master directory\u001b[0m\u001b[0;34m\u001b[0m\u001b[0;34m\u001b[0m\u001b[0m\n\u001b[0m\u001b[1;32m      4\u001b[0m \u001b[0;34m\u001b[0m\u001b[0m\n\u001b[1;32m      5\u001b[0m \u001b[0mos\u001b[0m\u001b[0;34m.\u001b[0m\u001b[0mmkdir\u001b[0m\u001b[0;34m(\u001b[0m\u001b[0;34m'master_data/val'\u001b[0m\u001b[0;34m)\u001b[0m \u001b[0;31m#validation directory\u001b[0m\u001b[0;34m\u001b[0m\u001b[0;34m\u001b[0m\u001b[0m\n",
            "\u001b[0;31mFileExistsError\u001b[0m: [Errno 17] File exists: 'master_data'"
          ]
        }
      ],
      "source": [
        "import os\n",
        "\n",
        "os.mkdir('master_data') #master directory\n",
        "\n",
        "os.mkdir('master_data/val') #validation directory\n",
        "os.mkdir('master_data/val/signal')\n",
        "os.mkdir('master_data/val/bg')\n",
        "\n",
        "os.mkdir('master_data/train') #training directory\n",
        "os.mkdir('master_data/train/signal')\n",
        "os.mkdir('master_data/train/bg')\n",
        "\n",
        "os.mkdir('master_data/test') #testing directory\n",
        "os.mkdir('master_data/test/signal')\n",
        "os.mkdir('master_data/test/bg')"
      ]
    },
    {
      "cell_type": "code",
      "execution_count": null,
      "metadata": {
        "id": "Cgwd3a5NgY9B"
      },
      "outputs": [],
      "source": [
        "#TO EMPTY FOLDERS\n",
        "\n",
        "# import glob\n",
        "\n",
        "# files = glob.glob('/content/signal/*')\n",
        "# for f in files:\n",
        "#     os.remove(f)"
      ]
    },
    {
      "cell_type": "code",
      "execution_count": null,
      "metadata": {
        "id": "U4w09chKggXn"
      },
      "outputs": [],
      "source": [
        "#split all signal images into 20% test 80% train ==> 0.2 TEST\n",
        "s_train, s_test, s_names_train, s_names_test = train_test_split(signal, s_names, test_size=0.2, random_state=1)\n",
        "#split 80% train into 25% (0.8*0.25) validation and 75% (0.8*0.75) train ==> 0.6 TRAIN 0.2 VALIDATION\n",
        "s_train, s_val, s_names_train, s_names_val = train_test_split(s_train, s_names_train, test_size=0.25, random_state=1)\n",
        "\n",
        "#split all bg images into 20% test 80% train ==> 0.2 TEST\n",
        "bg_train, bg_test, bg_names_train, bg_names_test = train_test_split(bg, bg_names, test_size=0.2, random_state=1)\n",
        "#split 80% train into 25% (0.8*0.25) validation and 75% (0.8*0.75) train ==> 0.6 TRAIN 0.2 VALIDATION\n",
        "bg_train, bg_val, bg_names_train, bg_names_val = train_test_split(bg_train, bg_names_train, test_size=0.25, random_state=1)\n",
        "\n",
        "\n"
      ]
    },
    {
      "cell_type": "code",
      "execution_count": null,
      "metadata": {
        "id": "cTDeY7eLpC4i"
      },
      "outputs": [],
      "source": [
        "#SAVING SIGNAL IMAGES IN RESPECTIVE DIRECTORIES\n",
        "for i in s_names_train:\n",
        "  copyfile('/content/drive/MyDrive/signal/'+i,'/content/master_data/train/signal/'+i)\n",
        "for i in s_names_test:\n",
        "  copyfile('/content/drive/MyDrive/signal/'+i,'/content/master_data/test/signal/'+i)\n",
        "for i in s_names_val:\n",
        "  copyfile('/content/drive/MyDrive/signal/'+i,'/content/master_data/val/signal/'+i)\n",
        "\n",
        "\n",
        "#SAVING BG IMAGES IN RESPECTIVE DIRECTORIES\n",
        "for i in bg_names_train:\n",
        "  copyfile('/content/drive/MyDrive/background/'+i,'/content/master_data/train/bg/'+i)\n",
        "for i in bg_names_test:\n",
        "  copyfile('/content/drive/MyDrive/background/'+i,'/content/master_data/test/bg/'+i)\n",
        "for i in bg_names_val:\n",
        "  copyfile('/content/drive/MyDrive/background/'+i,'/content/master_data/val/bg/'+i)"
      ]
    },
    {
      "cell_type": "code",
      "execution_count": null,
      "metadata": {
        "colab": {
          "base_uri": "https://localhost:8080/",
          "height": 386
        },
        "id": "dK2r8ImxRybn",
        "outputId": "2a8c103b-b0ee-486b-b107-fb8ae012a01d"
      },
      "outputs": [
        {
          "output_type": "display_data",
          "data": {
            "text/plain": [
              "<PIL.Image.Image image mode=RGB size=369x369>"
            ],
            "image/png": "[encoded data removed]"
          },
          "metadata": {}
        }
      ],
      "source": [
        "from google.colab.patches import cv2_imshow\n",
        "cv2_imshow(signal[7000])"
      ]
    },
    {
      "cell_type": "code",
      "execution_count": null,
      "metadata": {
        "colab": {
          "base_uri": "https://localhost:8080/"
        },
        "id": "BQSeNFXSsfKO",
        "outputId": "638bd3d2-912c-4c02-f90a-7e7211f1f6a7"
      },
      "outputs": [
        {
          "output_type": "stream",
          "name": "stdout",
          "text": [
            "Found 10410 images belonging to 2 classes.\n",
            "Found 3470 images belonging to 2 classes.\n",
            "Found 3470 images belonging to 2 classes.\n"
          ]
        }
      ],
      "source": [
        "#FORMING SEPERATE BATCHES FOR TRAINING, TESTING AND VALIDATION\n",
        "train_batches = ImageDataGenerator(rescale=1./255,horizontal_flip=True,\n",
        "                             vertical_flip=True,shear_range=0.1,\n",
        "                             zoom_range=0.1,\n",
        "                             width_shift_range=0.1,\n",
        "                             height_shift_range=0.1).flow_from_directory('/content/master_data/train',\n",
        "                                                    target_size = (224, 224),\n",
        "                                                    class_mode = 'binary',\n",
        "                                                    batch_size = 16,\n",
        "                                                    color_mode='grayscale')\n",
        "\n",
        "test_batches = ImageDataGenerator(rescale=1./255).flow_from_directory('/content/master_data/test',\n",
        "                                                    target_size = (224,224),\n",
        "                                                    class_mode = 'binary',\n",
        "                                                    batch_size = 16, color_mode='grayscale')\n",
        "val_batches = ImageDataGenerator(rescale=1./255).flow_from_directory('/content/master_data/val',\n",
        "                                                    target_size = (224, 224),\n",
        "                                                    class_mode = 'binary',\n",
        "                                                    batch_size = 16, color_mode='grayscale')\n"
      ]
    },
    {
      "cell_type": "code",
      "source": [
        "class Maxout(tf.keras.layers.Layer):\n",
        "    def __init__(self, num_units=5):\n",
        "        super(Maxout, self).__init__()\n",
        "        self.num_units = num_units\n",
        "\n",
        "    def build(self, input_shape):\n",
        "        self.fc = tf.keras.layers.Dense(input_shape[-1] * self.num_units)\n",
        "\n",
        "    def call(self, x):\n",
        "        out = self.fc(x)\n",
        "        out = tf.reshape(out, [-1, x.shape[-1], self.num_units])\n",
        "        out = tf.reduce_max(out, axis=2)\n",
        "        return out"
      ],
      "metadata": {
        "id": "bGpU8jfNZvAs"
      },
      "execution_count": null,
      "outputs": []
    },
    {
      "cell_type": "code",
      "source": [
        "from keras.layers import Layer\n",
        "import keras.backend as K\n",
        "\n",
        "class LocalResponseNormalization(Layer):\n",
        "    def __init__(self, alpha=1e-4, beta=0.75, k=2, **kwargs):\n",
        "        self.alpha = alpha\n",
        "        self.beta = beta\n",
        "        self.k = k\n",
        "        super(LocalResponseNormalization, self).__init__(**kwargs)\n",
        "\n",
        "    def build(self, input_shape):\n",
        "        super(LocalResponseNormalization, self).build(input_shape)\n",
        "\n",
        "    def call(self, x):\n",
        "        squared = K.square(x)\n",
        "        pooled = K.pool2d(squared, (self.k, self.k), padding=\"same\", pool_mode=\"avg\")\n",
        "        normalized = x / K.pow((self.alpha * pooled + 1.0), self.beta)\n",
        "        return normalized\n",
        "\n",
        "    def compute_output_shape(self, input_shape):\n",
        "        return input_shape"
      ],
      "metadata": {
        "id": "hc4cBLpSZu9R"
      },
      "execution_count": null,
      "outputs": []
    },
    {
      "cell_type": "code",
      "execution_count": null,
      "metadata": {
        "colab": {
          "base_uri": "https://localhost:8080/"
        },
        "id": "Oz56Cx3-zMOL",
        "outputId": "89a63c1e-d3d8-4c09-aea7-082af0788c4c"
      },
      "outputs": [
        {
          "output_type": "stream",
          "name": "stdout",
          "text": [
            "Model: \"sequential_2\"\n",
            "_________________________________________________________________\n",
            " Layer (type)                Output Shape              Param #   \n",
            "=================================================================\n",
            " conv2d_6 (Conv2D)           (None, 214, 214, 32)      3904      \n",
            "                                                                 \n",
            " max_pooling2d_5 (MaxPoolin  (None, 107, 107, 32)      0         \n",
            " g2D)                                                            \n",
            "                                                                 \n",
            " dropout_9 (Dropout)         (None, 107, 107, 32)      0         \n",
            "                                                                 \n",
            " conv2d_7 (Conv2D)           (None, 105, 105, 32)      9248      \n",
            "                                                                 \n",
            " max_pooling2d_6 (MaxPoolin  (None, 35, 35, 32)        0         \n",
            " g2D)                                                            \n",
            "                                                                 \n",
            " dropout_10 (Dropout)        (None, 35, 35, 32)        0         \n",
            "                                                                 \n",
            " conv2d_8 (Conv2D)           (None, 33, 33, 32)        9248      \n",
            "                                                                 \n",
            " max_pooling2d_7 (MaxPoolin  (None, 11, 11, 32)        0         \n",
            " g2D)                                                            \n",
            "                                                                 \n",
            " local_response_normalizati  (None, 11, 11, 32)        0         \n",
            " on_1 (LocalResponseNormali                                      \n",
            " zation)                                                         \n",
            "                                                                 \n",
            " flatten_1 (Flatten)         (None, 3872)              0         \n",
            "                                                                 \n",
            " dropout_11 (Dropout)        (None, 3872)              0         \n",
            "                                                                 \n",
            " dense_5 (Dense)             (None, 256)               1320448   \n",
            "                                                                 \n",
            " dropout_12 (Dropout)        (None, 256)               0         \n",
            "                                                                 \n",
            " dense_6 (Dense)             (None, 128)               115456    \n",
            "                                                                 \n",
            " dense_7 (Dense)             (None, 64)                8256      \n",
            "                                                                 \n",
            " dropout_13 (Dropout)        (None, 64)                0         \n",
            "                                                                 \n",
            " dense_8 (Dense)             (None, 25)                1625      \n",
            "                                                                 \n",
            " dropout_14 (Dropout)        (None, 25)                0         \n",
            "                                                                 \n",
            " dropout_15 (Dropout)        (None, 25)                0         \n",
            "                                                                 \n",
            " dense_9 (Dense)             (None, 1)                 26        \n",
            "                                                                 \n",
            "=================================================================\n",
            "Total params: 1468211 (5.60 MB)\n",
            "Trainable params: 1468211 (5.60 MB)\n",
            "Non-trainable params: 0 (0.00 Byte)\n",
            "_________________________________________________________________\n"
          ]
        }
      ],
      "source": [
        "#Create a Sequential model\n",
        "model = Sequential()\n",
        "\n",
        "\n",
        "# Add the first Convolutional layer with L2 regularization\n",
        "#model.add(ZeroPadding2D(5, data_format=\"channels_first\"))\n",
        "model.add(Conv2D(32, (11, 11), activation='relu', kernel_regularizer=tf.keras.regularizers.l2(0.01), input_shape=(224, 224, 1)))\n",
        "\n",
        "# Add the first MaxPooling layer\n",
        "model.add(MaxPooling2D(2, 2))\n",
        "\n",
        "# Add the second layer: Dropout\n",
        "model.add(Dropout(0.2))\n",
        "\n",
        "# Add the second Convolutional layer with L2 regularization\n",
        "# model.add(ZeroPadding2D(1, data_format=\"channels_first\"))\n",
        "model.add(Conv2D(32, (3, 3), activation='relu', kernel_regularizer=tf.keras.regularizers.l2(0.01)))\n",
        "\n",
        "# Add the second MaxPooling layer\n",
        "model.add(MaxPooling2D(3, 3))\n",
        "\n",
        "model.add(Dropout(0.2))\n",
        "# Add the third Convolutional layer with L2 regularization\n",
        "# model.add(ZeroPadding2D(1, data_format=\"channels_first\"))\n",
        "model.add(Conv2D(32, (3, 3), activation='relu', kernel_regularizer=tf.keras.regularizers.l2(0.01)))\n",
        "\n",
        "# Add the third MaxPooling layer\n",
        "model.add(MaxPooling2D(3, 3))\n",
        "\n",
        "# Add Local Response Normalization\n",
        "model.add(LocalResponseNormalization())\n",
        "\n",
        "# Flatten the output before the Fully Connected layer\n",
        "model.add(Flatten())\n",
        "\n",
        "# Add a Dropout layer before the first Fully Connected layer\n",
        "model.add(Dropout(0.2))\n",
        "model.add(Dense(256, activation=Maxout()))\n",
        "model.add(Dropout(0.2))\n",
        "model.add(Dense(128, activation=Maxout()))\n",
        "# Add the Fully Connected layer with 64 units\n",
        "model.add(Dense(64, activation='relu'))\n",
        "model.add(Dropout(0.2))\n",
        "model.add(Dense(25, activation='relu'))\n",
        "model.add(Dropout(0.1))\n",
        "# Add a Dropout layer before the output layer\n",
        "model.add(Dropout(0.1))\n",
        "\n",
        "# Add the output layer with a Sigmoid activation\n",
        "model.add(Dense(1, activation='sigmoid'))\n",
        "\n",
        "\n",
        "# Compiling the network\n",
        "optimizer = Adam(learning_rate=0.001)\n",
        "model.compile(loss='binary_crossentropy', optimizer=optimizer, metrics=['accuracy', 'AUC'])\n",
        "model.summary()\n",
        "# model.save_weights('model.h5')\n"
      ]
    },
    {
      "cell_type": "code",
      "execution_count": null,
      "metadata": {
        "colab": {
          "base_uri": "https://localhost:8080/"
        },
        "id": "z2r-Gvsu4W8C",
        "outputId": "e07a80b0-b568-4e27-944e-6904980f9081"
      },
      "outputs": [
        {
          "output_type": "stream",
          "name": "stdout",
          "text": [
            "Epoch 1/5\n",
            "651/651 [==============================] - 74s 105ms/step - loss: 0.7129 - accuracy: 0.5772 - auc: 0.5030 - val_loss: 0.7044 - val_accuracy: 0.5764 - val_auc: 0.5000\n",
            "Epoch 2/5\n",
            "651/651 [==============================] - 70s 108ms/step - loss: 0.6832 - accuracy: 0.5764 - auc: 0.5000 - val_loss: 0.6814 - val_accuracy: 0.5764 - val_auc: 0.5000\n",
            "Epoch 3/5\n",
            "651/651 [==============================] - 73s 111ms/step - loss: 0.6823 - accuracy: 0.5763 - auc: 0.5055 - val_loss: 0.6821 - val_accuracy: 0.5764 - val_auc: 0.5000\n",
            "Epoch 4/5\n",
            "651/651 [==============================] - 68s 104ms/step - loss: 0.6818 - accuracy: 0.5764 - auc: 0.5030 - val_loss: 0.6818 - val_accuracy: 0.5764 - val_auc: 0.5000\n",
            "Epoch 5/5\n",
            "651/651 [==============================] - 70s 107ms/step - loss: 0.6818 - accuracy: 0.5764 - auc: 0.4967 - val_loss: 0.6815 - val_accuracy: 0.5764 - val_auc: 0.5000\n"
          ]
        }
      ],
      "source": [
        "# #FITTING THE MODEL\n",
        "earlystopping = callbacks.EarlyStopping(monitor=\"val_loss\",\n",
        "                                        mode=\"min\", patience=10,\n",
        "                                        restore_best_weights=True)\n",
        "\n",
        "history= model.fit(train_batches, steps_per_epoch=len(train_batches),\n",
        "                    validation_data=val_batches, validation_steps=len(val_batches), epochs=5, verbose=1, callbacks=[earlystopping])"
      ]
    },
    {
      "cell_type": "code",
      "execution_count": null,
      "metadata": {
        "colab": {
          "base_uri": "https://localhost:8080/"
        },
        "id": "44wHMAocTdSo",
        "outputId": "4506f55d-73a6-4303-bea7-128d90503cf9"
      },
      "outputs": [
        {
          "output_type": "stream",
          "name": "stdout",
          "text": [
            "217/217 [==============================] - 4s 18ms/step - loss: 0.6815 - accuracy: 0.5764 - auc: 0.5000\n",
            "Test loss: 0.6814618706703186\n",
            "Test accuracy: 0.5763688683509827\n"
          ]
        }
      ],
      "source": [
        "# Let’s evaluate our model performance\n",
        "score = model.evaluate(val_batches)\n",
        "print('Test loss:', score[0])\n",
        "print('Test accuracy:', score[1])"
      ]
    },
    {
      "cell_type": "code",
      "execution_count": null,
      "metadata": {
        "colab": {
          "base_uri": "https://localhost:8080/",
          "height": 449
        },
        "id": "-D2eneCG6B2-",
        "outputId": "8b9664b5-d4cd-4eb4-9a7d-929206d54a88"
      },
      "outputs": [
        {
          "output_type": "display_data",
          "data": {
            "text/plain": [
              "<Figure size 640x480 with 1 Axes>"
            ],
            "image/png": "[encoded data removed]"
          },
          "metadata": {}
        }
      ],
      "source": [
        "# print(model.predict(test_batches))\n",
        "plt.plot(history.history['loss'])\n",
        "plt.plot(history.history['val_loss'])\n",
        "plt.ylabel('loss')\n",
        "plt.xlabel('epoch')\n",
        "plt.legend(['train', 'validation'], loc='upper left')\n",
        "plt.show()"
      ]
    },
    {
      "cell_type": "code",
      "execution_count": null,
      "metadata": {
        "id": "DWznqXBHCN47"
      },
      "outputs": [],
      "source": [
        "model.save_weights('my_model_weights.h5')\n",
        "#model.load_weights('my_model_weights.h5')"
      ]
    },
    {
      "cell_type": "code",
      "execution_count": null,
      "metadata": {
        "colab": {
          "base_uri": "https://localhost:8080/"
        },
        "id": "hxtlL3ZfQEMa",
        "outputId": "23c9e077-e0eb-4485-9dc5-ffc1e0959187"
      },
      "outputs": [
        {
          "output_type": "stream",
          "name": "stdout",
          "text": [
            "217/217 [==============================] - 5s 24ms/step - loss: 0.6815 - accuracy: 0.5764 - auc: 0.5000\n",
            "loss: 0.6814614534378052\n",
            "accuracy: 0.5763688683509827\n",
            "AUC: 0.5\n"
          ]
        }
      ],
      "source": [
        "loss, accuracy, AUC = model.evaluate(test_batches, batch_size=16)\n",
        "print('loss:',loss)\n",
        "print('accuracy:', accuracy)\n",
        "print('AUC:', AUC)"
      ]
    },
    {
      "cell_type": "code",
      "execution_count": null,
      "metadata": {
        "colab": {
          "base_uri": "https://localhost:8080/"
        },
        "id": "Xi-yvIMAKEbP",
        "outputId": "0ea3d00d-1220-4bce-efcb-fcab6ff8d988"
      },
      "outputs": [
        {
          "output_type": "stream",
          "name": "stdout",
          "text": [
            "217/217 [==============================] - 4s 18ms/step\n",
            "[0 0 0 ... 0 0 0]\n",
            "3470\n"
          ]
        }
      ],
      "source": [
        "y_pred = model.predict(test_batches)\n",
        "# print(y_pred)\n",
        "y_pred = np.argmax(y_pred, axis=1)\n",
        "print(y_pred)\n",
        "# y_test = np.argmax(y_test, axis=1)\n",
        "# target_names = ['background', 'signal']\n",
        "# print(classification_report(y_test, y_pred, target_names=target_names))\n",
        "# print(y_test)\n",
        "print(len(y_pred))"
      ]
    },
    {
      "cell_type": "code",
      "execution_count": null,
      "metadata": {
        "colab": {
          "base_uri": "https://localhost:8080/",
          "height": 754
        },
        "id": "FcOq_xgVKdKT",
        "outputId": "c92495a8-6272-43ca-d482-7f57f599b084"
      },
      "outputs": [
        {
          "output_type": "stream",
          "name": "stdout",
          "text": [
            "Results for 31  signal images\n"
          ]
        },
        {
          "output_type": "error",
          "ename": "ValueError",
          "evalue": "ignored",
          "traceback": [
            "\u001b[0;31m---------------------------------------------------------------------------\u001b[0m",
            "\u001b[0;31mValueError\u001b[0m                                Traceback (most recent call last)",
            "\u001b[0;32m<ipython-input-40-9de35aa8c0ce>\u001b[0m in \u001b[0;36m<cell line: 13>\u001b[0;34m()\u001b[0m\n\u001b[1;32m     12\u001b[0m \u001b[0mprint\u001b[0m\u001b[0;34m(\u001b[0m\u001b[0;34m\"Results for\"\u001b[0m\u001b[0;34m,\u001b[0m \u001b[0mlen\u001b[0m\u001b[0;34m(\u001b[0m\u001b[0msignal\u001b[0m\u001b[0;34m)\u001b[0m\u001b[0;34m,\u001b[0m\u001b[0;34m\" signal images\"\u001b[0m\u001b[0;34m)\u001b[0m\u001b[0;34m\u001b[0m\u001b[0;34m\u001b[0m\u001b[0m\n\u001b[1;32m     13\u001b[0m \u001b[0;32mfor\u001b[0m \u001b[0mimg\u001b[0m \u001b[0;32min\u001b[0m \u001b[0ms_names\u001b[0m\u001b[0;34m:\u001b[0m\u001b[0;34m\u001b[0m\u001b[0;34m\u001b[0m\u001b[0m\n\u001b[0;32m---> 14\u001b[0;31m   \u001b[0mi\u001b[0m\u001b[0;34m,\u001b[0m \u001b[0mp\u001b[0m\u001b[0;34m,\u001b[0m \u001b[0mpredicted_class\u001b[0m \u001b[0;34m=\u001b[0m \u001b[0mCNN_model_testing\u001b[0m\u001b[0;34m(\u001b[0m\u001b[0;34m'/content/master_data/test/signal/'\u001b[0m\u001b[0;34m+\u001b[0m\u001b[0mimg\u001b[0m\u001b[0;34m)\u001b[0m\u001b[0;34m\u001b[0m\u001b[0;34m\u001b[0m\u001b[0m\n\u001b[0m\u001b[1;32m     15\u001b[0m   \u001b[0mprint\u001b[0m\u001b[0;34m(\u001b[0m\u001b[0;34m\"Predicted Class\"\u001b[0m\u001b[0;34m,\u001b[0m \u001b[0mpredicted_class\u001b[0m\u001b[0;34m,\u001b[0m \u001b[0;34m'probability:'\u001b[0m\u001b[0;34m,\u001b[0m \u001b[0mp\u001b[0m\u001b[0;34m)\u001b[0m\u001b[0;34m\u001b[0m\u001b[0;34m\u001b[0m\u001b[0m\n\u001b[1;32m     16\u001b[0m \u001b[0;34m\u001b[0m\u001b[0m\n",
            "\u001b[0;32m<ipython-input-40-9de35aa8c0ce>\u001b[0m in \u001b[0;36mCNN_model_testing\u001b[0;34m(path)\u001b[0m\n\u001b[1;32m      5\u001b[0m   \u001b[0mimg\u001b[0m\u001b[0;34m=\u001b[0m\u001b[0mimg\u001b[0m\u001b[0;34m.\u001b[0m\u001b[0mreshape\u001b[0m\u001b[0;34m(\u001b[0m\u001b[0;36m64\u001b[0m\u001b[0;34m,\u001b[0m\u001b[0;36m64\u001b[0m\u001b[0;34m,\u001b[0m\u001b[0;36m1\u001b[0m\u001b[0;34m)\u001b[0m\u001b[0;34m\u001b[0m\u001b[0;34m\u001b[0m\u001b[0m\n\u001b[1;32m      6\u001b[0m   \u001b[0mimg\u001b[0m \u001b[0;34m=\u001b[0m \u001b[0mnp\u001b[0m\u001b[0;34m.\u001b[0m\u001b[0marray\u001b[0m\u001b[0;34m(\u001b[0m\u001b[0mimg\u001b[0m\u001b[0;34m)\u001b[0m\u001b[0;34m/\u001b[0m\u001b[0;36m255.0\u001b[0m\u001b[0;34m\u001b[0m\u001b[0;34m\u001b[0m\u001b[0m\n\u001b[0;32m----> 7\u001b[0;31m   \u001b[0mp\u001b[0m \u001b[0;34m=\u001b[0m \u001b[0mmodel\u001b[0m\u001b[0;34m.\u001b[0m\u001b[0mpredict\u001b[0m\u001b[0;34m(\u001b[0m\u001b[0mimg\u001b[0m\u001b[0;34m)\u001b[0m\u001b[0;34m\u001b[0m\u001b[0;34m\u001b[0m\u001b[0m\n\u001b[0m\u001b[1;32m      8\u001b[0m   \u001b[0mpredicted_class\u001b[0m \u001b[0;34m=\u001b[0m \u001b[0mnp\u001b[0m\u001b[0;34m.\u001b[0m\u001b[0margmax\u001b[0m\u001b[0;34m(\u001b[0m\u001b[0mp\u001b[0m\u001b[0;34m[\u001b[0m\u001b[0;36m0\u001b[0m\u001b[0;34m]\u001b[0m\u001b[0;34m)\u001b[0m\u001b[0;34m\u001b[0m\u001b[0;34m\u001b[0m\u001b[0m\n\u001b[1;32m      9\u001b[0m   \u001b[0;32mreturn\u001b[0m \u001b[0mimg\u001b[0m\u001b[0;34m,\u001b[0m \u001b[0mp\u001b[0m\u001b[0;34m,\u001b[0m \u001b[0mpredicted_class\u001b[0m\u001b[0;34m\u001b[0m\u001b[0;34m\u001b[0m\u001b[0m\n",
            "\u001b[0;32m/usr/local/lib/python3.10/dist-packages/keras/src/utils/traceback_utils.py\u001b[0m in \u001b[0;36merror_handler\u001b[0;34m(*args, **kwargs)\u001b[0m\n\u001b[1;32m     68\u001b[0m             \u001b[0;31m# To get the full stack trace, call:\u001b[0m\u001b[0;34m\u001b[0m\u001b[0;34m\u001b[0m\u001b[0m\n\u001b[1;32m     69\u001b[0m             \u001b[0;31m# `tf.debugging.disable_traceback_filtering()`\u001b[0m\u001b[0;34m\u001b[0m\u001b[0;34m\u001b[0m\u001b[0m\n\u001b[0;32m---> 70\u001b[0;31m             \u001b[0;32mraise\u001b[0m \u001b[0me\u001b[0m\u001b[0;34m.\u001b[0m\u001b[0mwith_traceback\u001b[0m\u001b[0;34m(\u001b[0m\u001b[0mfiltered_tb\u001b[0m\u001b[0;34m)\u001b[0m \u001b[0;32mfrom\u001b[0m \u001b[0;32mNone\u001b[0m\u001b[0;34m\u001b[0m\u001b[0;34m\u001b[0m\u001b[0m\n\u001b[0m\u001b[1;32m     71\u001b[0m         \u001b[0;32mfinally\u001b[0m\u001b[0;34m:\u001b[0m\u001b[0;34m\u001b[0m\u001b[0;34m\u001b[0m\u001b[0m\n\u001b[1;32m     72\u001b[0m             \u001b[0;32mdel\u001b[0m \u001b[0mfiltered_tb\u001b[0m\u001b[0;34m\u001b[0m\u001b[0;34m\u001b[0m\u001b[0m\n",
            "\u001b[0;32m/usr/local/lib/python3.10/dist-packages/keras/src/engine/training.py\u001b[0m in \u001b[0;36mtf__predict_function\u001b[0;34m(iterator)\u001b[0m\n\u001b[1;32m     13\u001b[0m                 \u001b[0;32mtry\u001b[0m\u001b[0;34m:\u001b[0m\u001b[0;34m\u001b[0m\u001b[0;34m\u001b[0m\u001b[0m\n\u001b[1;32m     14\u001b[0m                     \u001b[0mdo_return\u001b[0m \u001b[0;34m=\u001b[0m \u001b[0;32mTrue\u001b[0m\u001b[0;34m\u001b[0m\u001b[0;34m\u001b[0m\u001b[0m\n\u001b[0;32m---> 15\u001b[0;31m                     \u001b[0mretval_\u001b[0m \u001b[0;34m=\u001b[0m \u001b[0mag__\u001b[0m\u001b[0;34m.\u001b[0m\u001b[0mconverted_call\u001b[0m\u001b[0;34m(\u001b[0m\u001b[0mag__\u001b[0m\u001b[0;34m.\u001b[0m\u001b[0mld\u001b[0m\u001b[0;34m(\u001b[0m\u001b[0mstep_function\u001b[0m\u001b[0;34m)\u001b[0m\u001b[0;34m,\u001b[0m \u001b[0;34m(\u001b[0m\u001b[0mag__\u001b[0m\u001b[0;34m.\u001b[0m\u001b[0mld\u001b[0m\u001b[0;34m(\u001b[0m\u001b[0mself\u001b[0m\u001b[0;34m)\u001b[0m\u001b[0;34m,\u001b[0m \u001b[0mag__\u001b[0m\u001b[0;34m.\u001b[0m\u001b[0mld\u001b[0m\u001b[0;34m(\u001b[0m\u001b[0miterator\u001b[0m\u001b[0;34m)\u001b[0m\u001b[0;34m)\u001b[0m\u001b[0;34m,\u001b[0m \u001b[0;32mNone\u001b[0m\u001b[0;34m,\u001b[0m \u001b[0mfscope\u001b[0m\u001b[0;34m)\u001b[0m\u001b[0;34m\u001b[0m\u001b[0;34m\u001b[0m\u001b[0m\n\u001b[0m\u001b[1;32m     16\u001b[0m                 \u001b[0;32mexcept\u001b[0m\u001b[0;34m:\u001b[0m\u001b[0;34m\u001b[0m\u001b[0;34m\u001b[0m\u001b[0m\n\u001b[1;32m     17\u001b[0m                     \u001b[0mdo_return\u001b[0m \u001b[0;34m=\u001b[0m \u001b[0;32mFalse\u001b[0m\u001b[0;34m\u001b[0m\u001b[0;34m\u001b[0m\u001b[0m\n",
            "\u001b[0;31mValueError\u001b[0m: in user code:\n\n    File \"/usr/local/lib/python3.10/dist-packages/keras/src/engine/training.py\", line 2416, in predict_function  *\n        return step_function(self, iterator)\n    File \"/usr/local/lib/python3.10/dist-packages/keras/src/engine/training.py\", line 2401, in step_function  **\n        outputs = model.distribute_strategy.run(run_step, args=(data,))\n    File \"/usr/local/lib/python3.10/dist-packages/keras/src/engine/training.py\", line 2389, in run_step  **\n        outputs = model.predict_step(data)\n    File \"/usr/local/lib/python3.10/dist-packages/keras/src/engine/training.py\", line 2357, in predict_step\n        return self(x, training=False)\n    File \"/usr/local/lib/python3.10/dist-packages/keras/src/utils/traceback_utils.py\", line 70, in error_handler\n        raise e.with_traceback(filtered_tb) from None\n\n    ValueError: Exception encountered when calling layer 'max_pooling2d_18' (type MaxPooling2D).\n    \n    Negative dimension size caused by subtracting 2 from 1 for '{{node sequential_7/max_pooling2d_18/MaxPool}} = MaxPool[T=DT_FLOAT, data_format=\"NHWC\", explicit_paddings=[], ksize=[1, 2, 2, 1], padding=\"VALID\", strides=[1, 2, 2, 1]](sequential_7/conv2d_18/Relu)' with input shapes: [32,64,1,32].\n    \n    Call arguments received by layer 'max_pooling2d_18' (type MaxPooling2D):\n      • inputs=tf.Tensor(shape=(32, 64, 1, 32), dtype=float32)\n"
          ]
        }
      ],
      "source": [
        "from tensorflow.keras.preprocessing import image\n",
        "def CNN_model_testing(path):\n",
        "  img = image.load_img(path, target_size=(64,64),color_mode = \"grayscale\")\n",
        "  img = image.img_to_array(img, dtype=np.uint8)\n",
        "  img=img.reshape(64,64,1)\n",
        "  img = np.array(img)/255.0\n",
        "  p = model.predict(img)\n",
        "  predicted_class = np.argmax(p[0])\n",
        "  return img, p, predicted_class\n",
        "\n",
        "signal, s_names = load_images_from_folder('/content/master_data/test/signal')\n",
        "print(\"Results for\", len(signal),\" signal images\")\n",
        "for img in s_names:\n",
        "  i, p, predicted_class = CNN_model_testing('/content/master_data/test/signal/'+img)\n",
        "  print(\"Predicted Class\", predicted_class, 'probability:', p)\n",
        "\n",
        "bg, bg_names = load_images_from_folder('/content/master_data/test/bg')\n",
        "print(\"Results for\", len(bg),\" Background images\")\n",
        "for img in s_names:\n",
        "  i, p, predicted_class = CNN_model_testing('/content/master_data/test/bg/'+img)\n",
        "  print(\"Predicted Class\", predicted_class, 'probability:', p)"
      ]
    },
    {
      "cell_type": "code",
      "execution_count": null,
      "metadata": {
        "id": "6cbMzfDxz3W5"
      },
      "outputs": [],
      "source": []
    }
  ],
  "metadata": {
    "accelerator": "GPU",
    "colab": {
      "provenance": [],
      "gpuType": "T4"
    },
    "kernelspec": {
      "display_name": "Python 3",
      "name": "python3"
    },
    "language_info": {
      "name": "python"
    }
  },
  "nbformat": 4,
  "nbformat_minor": 0
}