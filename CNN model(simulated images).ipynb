{
 "cells": [
  {
   "cell_type": "code",
   "execution_count": 2,
   "id": "298d0b5f-5941-4c70-89cd-92c758453dac",
   "metadata": {
    "scrolled": true
   },
   "outputs": [],
   "source": [
    "import os, random\n",
    "import numpy as np\n",
    "import pandas as pd\n",
    "import matplotlib.pyplot as plt\n",
    "%matplotlib inline\n",
    "import PIL\n",
    "from PIL import Image\n",
    "import tensorflow as tf\n",
    "from tensorflow import *\n",
    "import keras\n",
    "from sklearn.utils import shuffle\n",
    "from shutil import copyfile\n",
    "\n",
    "from sklearn.utils import shuffle\n",
    "from sklearn.model_selection import train_test_split\n",
    "from sklearn import preprocessing\n",
    "from sklearn.metrics import confusion_matrix\n",
    "\n",
    "# from keras import backend as K\n",
    "from tensorflow.keras import datasets, layers, models,callbacks\n",
    "from keras.preprocessing import image_dataset_from_directory\n",
    "# from keras.preprocessing.image import ImageDataGenerator, array_to_img, img_to_array, load_img\n",
    "from tensorflow.keras.models import Sequential\n",
    "from tensorflow.keras.layers import Input, Dropout, Flatten, Conv2D, MaxPooling2D, Dense, Activation, Lambda\n",
    "from tensorflow.keras.optimizers import RMSprop, Adam\n",
    "from tensorflow.keras.callbacks import ModelCheckpoint, Callback, EarlyStopping\n",
    "\n",
    "import skimage"
   ]
  },
  {
   "cell_type": "code",
   "execution_count": 1,
   "id": "23111201-1816-4ca9-8f8b-de00a2d9b10d",
   "metadata": {},
   "outputs": [
    {
     "name": "stdout",
     "output_type": "stream",
     "text": [
      "Collecting opencv-python\n",
      "  Downloading opencv_python-4.9.0.80-cp37-abi3-macosx_11_0_arm64.whl.metadata (20 kB)\n",
      "Requirement already satisfied: numpy>=1.21.2 in /opt/anaconda3/lib/python3.11/site-packages (from opencv-python) (1.26.4)\n",
      "Downloading opencv_python-4.9.0.80-cp37-abi3-macosx_11_0_arm64.whl (35.4 MB)\n",
      "\u001b[2K   \u001b[90m━━━━━━━━━━━━━━━━━━━━━━━━━━━━━━━━━━━━━━━━\u001b[0m \u001b[32m35.4/35.4 MB\u001b[0m \u001b[31m5.2 MB/s\u001b[0m eta \u001b[36m0:00:00\u001b[0m00:01\u001b[0m00:01\u001b[0m\n",
      "\u001b[?25hInstalling collected packages: opencv-python\n",
      "Successfully installed opencv-python-4.9.0.80\n",
      "Note: you may need to restart the kernel to use updated packages.\n"
     ]
    }
   ],
   "source": [
    "pip install opencv-python"
   ]
  },
  {
   "cell_type": "code",
   "execution_count": 88,
   "id": "0c29d3f8-5c5e-46c0-8776-25f5c770ed82",
   "metadata": {},
   "outputs": [],
   "source": [
    "# #LOADING ALL IMAGES FROM DRIVE\n",
    "import cv2\n",
    "import os\n",
    "\n",
    "def load_images_from_folder(folder):\n",
    "    images = []\n",
    "    names=[]\n",
    "    for filename in os.listdir(folder):\n",
    "        # if len(names)>=100:\n",
    "            # break\n",
    "        img = cv2.imread(os.path.join(folder, filename))\n",
    "        if img is not None:\n",
    "            images.append(img)\n",
    "            if folder=='/Users/kirtigarg/Others/drive D/Downloads/Downloads 17-5-24/Signal_200' :\n",
    "                names.append(0)\n",
    "            else: \n",
    "                names.append(1)\n",
    "    return images, names\n",
    "\n",
    "signal, s_names = load_images_from_folder('/Users/kirtigarg/Others/drive D/Downloads/Downloads 17-5-24/Signal_200')\n",
    "bg, bg_names = load_images_from_folder('/Users/kirtigarg/Others/drive D/Downloads/Downloads 17-5-24/background_200')\n",
    "# /Users/kirtigarg/Others/drive D/Downloads/Downloads 17-5-24"
   ]
  },
  {
   "cell_type": "code",
   "execution_count": null,
   "id": "23c8a6c9-2699-4c59-8c12-0b4a4c93bb8d",
   "metadata": {},
   "outputs": [],
   "source": []
  },
  {
   "cell_type": "code",
   "execution_count": null,
   "id": "69070e7e-12b4-4bd5-9020-fee8fc6e9efd",
   "metadata": {},
   "outputs": [],
   "source": []
  },
  {
   "cell_type": "code",
   "execution_count": 89,
   "id": "23b69942-0c70-4372-8e6f-759458f759aa",
   "metadata": {},
   "outputs": [
    {
     "name": "stdout",
     "output_type": "stream",
     "text": [
      "Number of Signal events in dataset: 200\n",
      "Number of Background events dataset: 200\n"
     ]
    },
    {
     "data": {
      "text/plain": [
       "<matplotlib.image.AxesImage at 0x315b3f790>"
      ]
     },
     "execution_count": 89,
     "metadata": {},
     "output_type": "execute_result"
    },
    {
     "data": {
      "image/png": "[encoded data removed]",
      "text/plain": [
       "<Figure size 640x480 with 1 Axes>"
      ]
     },
     "metadata": {},
     "output_type": "display_data"
    }
   ],
   "source": [
    "print(\"Number of Signal events in dataset:\", len(signal))\n",
    "print(\"Number of Background events dataset:\", len(bg))\n",
    "# print(bg_names)\n",
    "plt.imshow(signal[6], cmap='grey')\n"
   ]
  },
  {
   "cell_type": "code",
   "execution_count": 90,
   "id": "f370ce76-0cde-4ca6-af88-3aef0a760e40",
   "metadata": {},
   "outputs": [],
   "source": [
    "for i in range(len(signal)):\n",
    "    signal[i] = signal[i][100:280,100:300]\n",
    "    signal[i]=skimage.transform.resize(signal[i],(64,64,1),mode='constant',preserve_range=True)\n",
    "    bg[i]= bg[i][100:280,100:300]\n",
    "    bg[i]=skimage.transform.resize(bg[i],(64,64,1),mode='constant',preserve_range=True)\n"
   ]
  },
  {
   "cell_type": "code",
   "execution_count": 91,
   "id": "3fee8d0c-dffe-4b37-a1c0-0c9bcfa206d1",
   "metadata": {},
   "outputs": [
    {
     "data": {
      "text/plain": [
       "<matplotlib.image.AxesImage at 0x315bc76d0>"
      ]
     },
     "execution_count": 91,
     "metadata": {},
     "output_type": "execute_result"
    },
    {
     "data": {
      "image/png": "[encoded data removed]",
      "text/plain": [
       "<Figure size 640x480 with 1 Axes>"
      ]
     },
     "metadata": {},
     "output_type": "display_data"
    }
   ],
   "source": [
    "plt.imshow(signal[2], cmap='grey')"
   ]
  },
  {
   "cell_type": "code",
   "execution_count": 92,
   "id": "ac02ba40-ea92-4014-9ef2-45cd1cf514e6",
   "metadata": {},
   "outputs": [],
   "source": [
    "#split all signal images into 20% test 80% train ==> 0.2 TEST\n",
    "s_train, s_test, s_names_train, s_names_test = train_test_split(signal, s_names, test_size=0.2, random_state=1)\n",
    "#split 80% train into 25% (0.8*0.25) validation and 75% (0.8*0.75) train ==> 0.6 TRAIN 0.2 VALIDATION\n",
    "s_train, s_val, s_names_train, s_names_val = train_test_split(s_train, s_names_train, test_size=0.25, random_state=1)\n",
    "\n",
    "#split all bg images into 20% test 80% train ==> 0.2 TEST\n",
    "bg_train, bg_test, bg_names_train, bg_names_test = train_test_split(bg, bg_names, test_size=0.2, random_state=1)\n",
    "#split 80% train into 25% (0.8*0.25) validation and 75% (0.8*0.75) train ==> 0.6 TRAIN 0.2 VALIDATION\n",
    "bg_train, bg_val, bg_names_train, bg_names_val = train_test_split(bg_train, bg_names_train, test_size=0.25, random_state=1)\n",
    "\n",
    "\n",
    "x_train= np.array(s_train+bg_train)\n",
    "y_train= np.array(s_names_train+bg_names_train)\n",
    "x_train, y_train = shuffle(x_train, y_train)\n",
    "\n",
    "x_test=  np.array(s_test+bg_test)\n",
    "y_test= np.array(s_names_test+bg_names_test)\n",
    "x_test, y_test = shuffle(x_test, y_test)\n",
    "\n",
    "\n",
    "x_val= np.array(s_val+bg_val)\n",
    "y_val=np.array(s_names_val+bg_names_val)\n",
    "x_val, y_val = shuffle(x_val, y_val)\n"
   ]
  },
  {
   "cell_type": "code",
   "execution_count": 93,
   "id": "f1821bc7-0a56-40d4-ae3e-13b39f0d80a9",
   "metadata": {},
   "outputs": [
    {
     "data": {
      "text/html": [
       "<pre style=\"white-space:pre;overflow-x:auto;line-height:normal;font-family:Menlo,'DejaVu Sans Mono',consolas,'Courier New',monospace\"><span style=\"font-weight: bold\">Model: \"sequential_4\"</span>\n",
       "</pre>\n"
      ],
      "text/plain": [
       "\u001b[1mModel: \"sequential_4\"\u001b[0m\n"
      ]
     },
     "metadata": {},
     "output_type": "display_data"
    },
    {
     "data": {
      "text/html": [
       "<pre style=\"white-space:pre;overflow-x:auto;line-height:normal;font-family:Menlo,'DejaVu Sans Mono',consolas,'Courier New',monospace\">┏━━━━━━━━━━━━━━━━━━━━━━━━━━━━━━━━━┳━━━━━━━━━━━━━━━━━━━━━━━━┳━━━━━━━━━━━━━━━┓\n",
       "┃<span style=\"font-weight: bold\"> Layer (type)                    </span>┃<span style=\"font-weight: bold\"> Output Shape           </span>┃<span style=\"font-weight: bold\">       Param # </span>┃\n",
       "┡━━━━━━━━━━━━━━━━━━━━━━━━━━━━━━━━━╇━━━━━━━━━━━━━━━━━━━━━━━━╇━━━━━━━━━━━━━━━┩\n",
       "│ conv2d_12 (<span style=\"color: #0087ff; text-decoration-color: #0087ff\">Conv2D</span>)              │ (<span style=\"color: #00d7ff; text-decoration-color: #00d7ff\">None</span>, <span style=\"color: #00af00; text-decoration-color: #00af00\">54</span>, <span style=\"color: #00af00; text-decoration-color: #00af00\">54</span>, <span style=\"color: #00af00; text-decoration-color: #00af00\">32</span>)     │         <span style=\"color: #00af00; text-decoration-color: #00af00\">3,904</span> │\n",
       "├─────────────────────────────────┼────────────────────────┼───────────────┤\n",
       "│ max_pooling2d_12 (<span style=\"color: #0087ff; text-decoration-color: #0087ff\">MaxPooling2D</span>) │ (<span style=\"color: #00d7ff; text-decoration-color: #00d7ff\">None</span>, <span style=\"color: #00af00; text-decoration-color: #00af00\">27</span>, <span style=\"color: #00af00; text-decoration-color: #00af00\">27</span>, <span style=\"color: #00af00; text-decoration-color: #00af00\">32</span>)     │             <span style=\"color: #00af00; text-decoration-color: #00af00\">0</span> │\n",
       "├─────────────────────────────────┼────────────────────────┼───────────────┤\n",
       "│ dropout_16 (<span style=\"color: #0087ff; text-decoration-color: #0087ff\">Dropout</span>)            │ (<span style=\"color: #00d7ff; text-decoration-color: #00d7ff\">None</span>, <span style=\"color: #00af00; text-decoration-color: #00af00\">27</span>, <span style=\"color: #00af00; text-decoration-color: #00af00\">27</span>, <span style=\"color: #00af00; text-decoration-color: #00af00\">32</span>)     │             <span style=\"color: #00af00; text-decoration-color: #00af00\">0</span> │\n",
       "├─────────────────────────────────┼────────────────────────┼───────────────┤\n",
       "│ conv2d_13 (<span style=\"color: #0087ff; text-decoration-color: #0087ff\">Conv2D</span>)              │ (<span style=\"color: #00d7ff; text-decoration-color: #00d7ff\">None</span>, <span style=\"color: #00af00; text-decoration-color: #00af00\">25</span>, <span style=\"color: #00af00; text-decoration-color: #00af00\">25</span>, <span style=\"color: #00af00; text-decoration-color: #00af00\">32</span>)     │         <span style=\"color: #00af00; text-decoration-color: #00af00\">9,248</span> │\n",
       "├─────────────────────────────────┼────────────────────────┼───────────────┤\n",
       "│ max_pooling2d_13 (<span style=\"color: #0087ff; text-decoration-color: #0087ff\">MaxPooling2D</span>) │ (<span style=\"color: #00d7ff; text-decoration-color: #00d7ff\">None</span>, <span style=\"color: #00af00; text-decoration-color: #00af00\">8</span>, <span style=\"color: #00af00; text-decoration-color: #00af00\">8</span>, <span style=\"color: #00af00; text-decoration-color: #00af00\">32</span>)       │             <span style=\"color: #00af00; text-decoration-color: #00af00\">0</span> │\n",
       "├─────────────────────────────────┼────────────────────────┼───────────────┤\n",
       "│ dropout_17 (<span style=\"color: #0087ff; text-decoration-color: #0087ff\">Dropout</span>)            │ (<span style=\"color: #00d7ff; text-decoration-color: #00d7ff\">None</span>, <span style=\"color: #00af00; text-decoration-color: #00af00\">8</span>, <span style=\"color: #00af00; text-decoration-color: #00af00\">8</span>, <span style=\"color: #00af00; text-decoration-color: #00af00\">32</span>)       │             <span style=\"color: #00af00; text-decoration-color: #00af00\">0</span> │\n",
       "├─────────────────────────────────┼────────────────────────┼───────────────┤\n",
       "│ conv2d_14 (<span style=\"color: #0087ff; text-decoration-color: #0087ff\">Conv2D</span>)              │ (<span style=\"color: #00d7ff; text-decoration-color: #00d7ff\">None</span>, <span style=\"color: #00af00; text-decoration-color: #00af00\">6</span>, <span style=\"color: #00af00; text-decoration-color: #00af00\">6</span>, <span style=\"color: #00af00; text-decoration-color: #00af00\">32</span>)       │         <span style=\"color: #00af00; text-decoration-color: #00af00\">9,248</span> │\n",
       "├─────────────────────────────────┼────────────────────────┼───────────────┤\n",
       "│ max_pooling2d_14 (<span style=\"color: #0087ff; text-decoration-color: #0087ff\">MaxPooling2D</span>) │ (<span style=\"color: #00d7ff; text-decoration-color: #00d7ff\">None</span>, <span style=\"color: #00af00; text-decoration-color: #00af00\">2</span>, <span style=\"color: #00af00; text-decoration-color: #00af00\">2</span>, <span style=\"color: #00af00; text-decoration-color: #00af00\">32</span>)       │             <span style=\"color: #00af00; text-decoration-color: #00af00\">0</span> │\n",
       "├─────────────────────────────────┼────────────────────────┼───────────────┤\n",
       "│ lambda_4 (<span style=\"color: #0087ff; text-decoration-color: #0087ff\">Lambda</span>)               │ (<span style=\"color: #00d7ff; text-decoration-color: #00d7ff\">None</span>, <span style=\"color: #00af00; text-decoration-color: #00af00\">2</span>, <span style=\"color: #00af00; text-decoration-color: #00af00\">2</span>, <span style=\"color: #00af00; text-decoration-color: #00af00\">32</span>)       │             <span style=\"color: #00af00; text-decoration-color: #00af00\">0</span> │\n",
       "├─────────────────────────────────┼────────────────────────┼───────────────┤\n",
       "│ flatten_4 (<span style=\"color: #0087ff; text-decoration-color: #0087ff\">Flatten</span>)             │ (<span style=\"color: #00d7ff; text-decoration-color: #00d7ff\">None</span>, <span style=\"color: #00af00; text-decoration-color: #00af00\">128</span>)            │             <span style=\"color: #00af00; text-decoration-color: #00af00\">0</span> │\n",
       "├─────────────────────────────────┼────────────────────────┼───────────────┤\n",
       "│ dropout_18 (<span style=\"color: #0087ff; text-decoration-color: #0087ff\">Dropout</span>)            │ (<span style=\"color: #00d7ff; text-decoration-color: #00d7ff\">None</span>, <span style=\"color: #00af00; text-decoration-color: #00af00\">128</span>)            │             <span style=\"color: #00af00; text-decoration-color: #00af00\">0</span> │\n",
       "├─────────────────────────────────┼────────────────────────┼───────────────┤\n",
       "│ dense_8 (<span style=\"color: #0087ff; text-decoration-color: #0087ff\">Dense</span>)                 │ (<span style=\"color: #00d7ff; text-decoration-color: #00d7ff\">None</span>, <span style=\"color: #00af00; text-decoration-color: #00af00\">64</span>)             │         <span style=\"color: #00af00; text-decoration-color: #00af00\">8,256</span> │\n",
       "├─────────────────────────────────┼────────────────────────┼───────────────┤\n",
       "│ dropout_19 (<span style=\"color: #0087ff; text-decoration-color: #0087ff\">Dropout</span>)            │ (<span style=\"color: #00d7ff; text-decoration-color: #00d7ff\">None</span>, <span style=\"color: #00af00; text-decoration-color: #00af00\">64</span>)             │             <span style=\"color: #00af00; text-decoration-color: #00af00\">0</span> │\n",
       "├─────────────────────────────────┼────────────────────────┼───────────────┤\n",
       "│ dense_9 (<span style=\"color: #0087ff; text-decoration-color: #0087ff\">Dense</span>)                 │ (<span style=\"color: #00d7ff; text-decoration-color: #00d7ff\">None</span>, <span style=\"color: #00af00; text-decoration-color: #00af00\">1</span>)              │            <span style=\"color: #00af00; text-decoration-color: #00af00\">65</span> │\n",
       "└─────────────────────────────────┴────────────────────────┴───────────────┘\n",
       "</pre>\n"
      ],
      "text/plain": [
       "┏━━━━━━━━━━━━━━━━━━━━━━━━━━━━━━━━━┳━━━━━━━━━━━━━━━━━━━━━━━━┳━━━━━━━━━━━━━━━┓\n",
       "┃\u001b[1m \u001b[0m\u001b[1mLayer (type)                   \u001b[0m\u001b[1m \u001b[0m┃\u001b[1m \u001b[0m\u001b[1mOutput Shape          \u001b[0m\u001b[1m \u001b[0m┃\u001b[1m \u001b[0m\u001b[1m      Param #\u001b[0m\u001b[1m \u001b[0m┃\n",
       "┡━━━━━━━━━━━━━━━━━━━━━━━━━━━━━━━━━╇━━━━━━━━━━━━━━━━━━━━━━━━╇━━━━━━━━━━━━━━━┩\n",
       "│ conv2d_12 (\u001b[38;5;33mConv2D\u001b[0m)              │ (\u001b[38;5;45mNone\u001b[0m, \u001b[38;5;34m54\u001b[0m, \u001b[38;5;34m54\u001b[0m, \u001b[38;5;34m32\u001b[0m)     │         \u001b[38;5;34m3,904\u001b[0m │\n",
       "├─────────────────────────────────┼────────────────────────┼───────────────┤\n",
       "│ max_pooling2d_12 (\u001b[38;5;33mMaxPooling2D\u001b[0m) │ (\u001b[38;5;45mNone\u001b[0m, \u001b[38;5;34m27\u001b[0m, \u001b[38;5;34m27\u001b[0m, \u001b[38;5;34m32\u001b[0m)     │             \u001b[38;5;34m0\u001b[0m │\n",
       "├─────────────────────────────────┼────────────────────────┼───────────────┤\n",
       "│ dropout_16 (\u001b[38;5;33mDropout\u001b[0m)            │ (\u001b[38;5;45mNone\u001b[0m, \u001b[38;5;34m27\u001b[0m, \u001b[38;5;34m27\u001b[0m, \u001b[38;5;34m32\u001b[0m)     │             \u001b[38;5;34m0\u001b[0m │\n",
       "├─────────────────────────────────┼────────────────────────┼───────────────┤\n",
       "│ conv2d_13 (\u001b[38;5;33mConv2D\u001b[0m)              │ (\u001b[38;5;45mNone\u001b[0m, \u001b[38;5;34m25\u001b[0m, \u001b[38;5;34m25\u001b[0m, \u001b[38;5;34m32\u001b[0m)     │         \u001b[38;5;34m9,248\u001b[0m │\n",
       "├─────────────────────────────────┼────────────────────────┼───────────────┤\n",
       "│ max_pooling2d_13 (\u001b[38;5;33mMaxPooling2D\u001b[0m) │ (\u001b[38;5;45mNone\u001b[0m, \u001b[38;5;34m8\u001b[0m, \u001b[38;5;34m8\u001b[0m, \u001b[38;5;34m32\u001b[0m)       │             \u001b[38;5;34m0\u001b[0m │\n",
       "├─────────────────────────────────┼────────────────────────┼───────────────┤\n",
       "│ dropout_17 (\u001b[38;5;33mDropout\u001b[0m)            │ (\u001b[38;5;45mNone\u001b[0m, \u001b[38;5;34m8\u001b[0m, \u001b[38;5;34m8\u001b[0m, \u001b[38;5;34m32\u001b[0m)       │             \u001b[38;5;34m0\u001b[0m │\n",
       "├─────────────────────────────────┼────────────────────────┼───────────────┤\n",
       "│ conv2d_14 (\u001b[38;5;33mConv2D\u001b[0m)              │ (\u001b[38;5;45mNone\u001b[0m, \u001b[38;5;34m6\u001b[0m, \u001b[38;5;34m6\u001b[0m, \u001b[38;5;34m32\u001b[0m)       │         \u001b[38;5;34m9,248\u001b[0m │\n",
       "├─────────────────────────────────┼────────────────────────┼───────────────┤\n",
       "│ max_pooling2d_14 (\u001b[38;5;33mMaxPooling2D\u001b[0m) │ (\u001b[38;5;45mNone\u001b[0m, \u001b[38;5;34m2\u001b[0m, \u001b[38;5;34m2\u001b[0m, \u001b[38;5;34m32\u001b[0m)       │             \u001b[38;5;34m0\u001b[0m │\n",
       "├─────────────────────────────────┼────────────────────────┼───────────────┤\n",
       "│ lambda_4 (\u001b[38;5;33mLambda\u001b[0m)               │ (\u001b[38;5;45mNone\u001b[0m, \u001b[38;5;34m2\u001b[0m, \u001b[38;5;34m2\u001b[0m, \u001b[38;5;34m32\u001b[0m)       │             \u001b[38;5;34m0\u001b[0m │\n",
       "├─────────────────────────────────┼────────────────────────┼───────────────┤\n",
       "│ flatten_4 (\u001b[38;5;33mFlatten\u001b[0m)             │ (\u001b[38;5;45mNone\u001b[0m, \u001b[38;5;34m128\u001b[0m)            │             \u001b[38;5;34m0\u001b[0m │\n",
       "├─────────────────────────────────┼────────────────────────┼───────────────┤\n",
       "│ dropout_18 (\u001b[38;5;33mDropout\u001b[0m)            │ (\u001b[38;5;45mNone\u001b[0m, \u001b[38;5;34m128\u001b[0m)            │             \u001b[38;5;34m0\u001b[0m │\n",
       "├─────────────────────────────────┼────────────────────────┼───────────────┤\n",
       "│ dense_8 (\u001b[38;5;33mDense\u001b[0m)                 │ (\u001b[38;5;45mNone\u001b[0m, \u001b[38;5;34m64\u001b[0m)             │         \u001b[38;5;34m8,256\u001b[0m │\n",
       "├─────────────────────────────────┼────────────────────────┼───────────────┤\n",
       "│ dropout_19 (\u001b[38;5;33mDropout\u001b[0m)            │ (\u001b[38;5;45mNone\u001b[0m, \u001b[38;5;34m64\u001b[0m)             │             \u001b[38;5;34m0\u001b[0m │\n",
       "├─────────────────────────────────┼────────────────────────┼───────────────┤\n",
       "│ dense_9 (\u001b[38;5;33mDense\u001b[0m)                 │ (\u001b[38;5;45mNone\u001b[0m, \u001b[38;5;34m1\u001b[0m)              │            \u001b[38;5;34m65\u001b[0m │\n",
       "└─────────────────────────────────┴────────────────────────┴───────────────┘\n"
      ]
     },
     "metadata": {},
     "output_type": "display_data"
    },
    {
     "data": {
      "text/html": [
       "<pre style=\"white-space:pre;overflow-x:auto;line-height:normal;font-family:Menlo,'DejaVu Sans Mono',consolas,'Courier New',monospace\"><span style=\"font-weight: bold\"> Total params: </span><span style=\"color: #00af00; text-decoration-color: #00af00\">30,721</span> (120.00 KB)\n",
       "</pre>\n"
      ],
      "text/plain": [
       "\u001b[1m Total params: \u001b[0m\u001b[38;5;34m30,721\u001b[0m (120.00 KB)\n"
      ]
     },
     "metadata": {},
     "output_type": "display_data"
    },
    {
     "data": {
      "text/html": [
       "<pre style=\"white-space:pre;overflow-x:auto;line-height:normal;font-family:Menlo,'DejaVu Sans Mono',consolas,'Courier New',monospace\"><span style=\"font-weight: bold\"> Trainable params: </span><span style=\"color: #00af00; text-decoration-color: #00af00\">30,721</span> (120.00 KB)\n",
       "</pre>\n"
      ],
      "text/plain": [
       "\u001b[1m Trainable params: \u001b[0m\u001b[38;5;34m30,721\u001b[0m (120.00 KB)\n"
      ]
     },
     "metadata": {},
     "output_type": "display_data"
    },
    {
     "data": {
      "text/html": [
       "<pre style=\"white-space:pre;overflow-x:auto;line-height:normal;font-family:Menlo,'DejaVu Sans Mono',consolas,'Courier New',monospace\"><span style=\"font-weight: bold\"> Non-trainable params: </span><span style=\"color: #00af00; text-decoration-color: #00af00\">0</span> (0.00 B)\n",
       "</pre>\n"
      ],
      "text/plain": [
       "\u001b[1m Non-trainable params: \u001b[0m\u001b[38;5;34m0\u001b[0m (0.00 B)\n"
      ]
     },
     "metadata": {},
     "output_type": "display_data"
    }
   ],
   "source": [
    "#Create a Sequential model\n",
    "model = Sequential()\n",
    "\n",
    "\n",
    "# Add the first Convolutional layer with L2 regularization\n",
    "model.add(Conv2D(32, (11, 11), activation='relu', kernel_regularizer=tf.keras.regularizers.l2(0.01), input_shape=(64, 64, 1)))\n",
    "\n",
    "# Add the first MaxPooling layer\n",
    "model.add(MaxPooling2D(2, 2))\n",
    "\n",
    "# Add the second layer: Dropout\n",
    "model.add(Dropout(0.2))\n",
    "\n",
    "# Add the second Convolutional layer with L2 regularization\n",
    "model.add(Conv2D(32, (3, 3), activation='relu', kernel_regularizer=tf.keras.regularizers.l2(0.01)))\n",
    "\n",
    "# Add the second MaxPooling layer\n",
    "model.add(MaxPooling2D(3, 3))\n",
    "\n",
    "model.add(Dropout(0.2))\n",
    "# Add the third Convolutional layer with L2 regularization\n",
    "model.add(Conv2D(32, (3, 3), activation='relu', kernel_regularizer=tf.keras.regularizers.l2(0.01)))\n",
    "\n",
    "# Add the third MaxPooling layer\n",
    "model.add(MaxPooling2D(3, 3))\n",
    "\n",
    "# Add Local Response Normalization\n",
    "model.add(Lambda(tf.nn.lrn))\n",
    "\n",
    "# Flatten the output before the Fully Connected layer\n",
    "model.add(Flatten())\n",
    "\n",
    "# Add a Dropout layer before the first Fully Connected layer\n",
    "model.add(Dropout(0.2))\n",
    "\n",
    "# Add the Fully Connected layer with 64 units\n",
    "model.add(Dense(64, activation='relu'))\n",
    "\n",
    "# Add a Dropout layer before the output layer\n",
    "model.add(Dropout(0.1))\n",
    "\n",
    "# Add the output layer with a Sigmoid activation\n",
    "model.add(Dense(1, activation='sigmoid'))\n",
    "model.summary()"
   ]
  },
  {
   "cell_type": "code",
   "execution_count": 94,
   "id": "c732fe5b-330a-4ffd-80fa-20dde51ac37d",
   "metadata": {},
   "outputs": [],
   "source": [
    "model.compile(\n",
    "    loss=tf.keras.losses.binary_crossentropy,\n",
    "    optimizer=tf.keras.optimizers.Adam(learning_rate=1.e-3),\n",
    "    metrics=['accuracy', tf.keras.metrics.AUC(curve='ROC')]\n",
    ")"
   ]
  },
  {
   "cell_type": "code",
   "execution_count": 95,
   "id": "bf05753f-4d3f-4748-8d22-567d4173a196",
   "metadata": {},
   "outputs": [
    {
     "name": "stdout",
     "output_type": "stream",
     "text": [
      "Epoch 1/30\n",
      "8/8 - 1s - 110ms/step - accuracy: 0.4875 - auc_4: 0.4365 - loss: 1.3601 - val_accuracy: 0.5000 - val_auc_4: 0.6175 - val_loss: 1.3104\n",
      "Epoch 2/30\n",
      "8/8 - 0s - 33ms/step - accuracy: 0.5208 - auc_4: 0.5791 - loss: 1.2821 - val_accuracy: 0.5375 - val_auc_4: 0.6181 - val_loss: 1.2459\n",
      "Epoch 3/30\n",
      "8/8 - 0s - 32ms/step - accuracy: 0.5375 - auc_4: 0.5462 - loss: 1.2332 - val_accuracy: 0.5375 - val_auc_4: 0.6531 - val_loss: 1.1923\n",
      "Epoch 4/30\n",
      "8/8 - 0s - 33ms/step - accuracy: 0.5917 - auc_4: 0.6281 - loss: 1.1618 - val_accuracy: 0.5875 - val_auc_4: 0.6738 - val_loss: 1.1384\n",
      "Epoch 5/30\n",
      "8/8 - 0s - 35ms/step - accuracy: 0.5583 - auc_4: 0.5743 - loss: 1.1322 - val_accuracy: 0.5750 - val_auc_4: 0.6703 - val_loss: 1.0983\n",
      "Epoch 6/30\n",
      "8/8 - 0s - 37ms/step - accuracy: 0.6167 - auc_4: 0.6758 - loss: 1.0624 - val_accuracy: 0.5000 - val_auc_4: 0.6919 - val_loss: 1.0670\n",
      "Epoch 7/30\n",
      "8/8 - 0s - 33ms/step - accuracy: 0.5625 - auc_4: 0.6435 - loss: 1.0473 - val_accuracy: 0.5750 - val_auc_4: 0.6528 - val_loss: 1.0226\n",
      "Epoch 8/30\n",
      "8/8 - 0s - 32ms/step - accuracy: 0.5667 - auc_4: 0.6169 - loss: 1.0184 - val_accuracy: 0.5875 - val_auc_4: 0.6534 - val_loss: 0.9938\n",
      "Epoch 9/30\n",
      "8/8 - 0s - 32ms/step - accuracy: 0.6000 - auc_4: 0.6264 - loss: 0.9825 - val_accuracy: 0.5875 - val_auc_4: 0.6578 - val_loss: 0.9555\n",
      "Epoch 10/30\n",
      "8/8 - 0s - 32ms/step - accuracy: 0.5833 - auc_4: 0.6479 - loss: 0.9471 - val_accuracy: 0.5875 - val_auc_4: 0.6834 - val_loss: 0.9235\n",
      "Epoch 11/30\n",
      "8/8 - 0s - 35ms/step - accuracy: 0.6500 - auc_4: 0.7044 - loss: 0.9062 - val_accuracy: 0.6000 - val_auc_4: 0.6772 - val_loss: 0.9086\n",
      "Epoch 12/30\n",
      "8/8 - 0s - 32ms/step - accuracy: 0.6583 - auc_4: 0.7497 - loss: 0.8728 - val_accuracy: 0.5750 - val_auc_4: 0.6806 - val_loss: 0.9089\n",
      "Epoch 13/30\n",
      "8/8 - 0s - 32ms/step - accuracy: 0.6375 - auc_4: 0.7061 - loss: 0.8622 - val_accuracy: 0.6250 - val_auc_4: 0.7234 - val_loss: 0.8643\n",
      "Epoch 14/30\n",
      "8/8 - 0s - 33ms/step - accuracy: 0.7292 - auc_4: 0.7793 - loss: 0.8043 - val_accuracy: 0.5500 - val_auc_4: 0.7375 - val_loss: 0.8967\n",
      "Epoch 15/30\n",
      "8/8 - 0s - 32ms/step - accuracy: 0.6875 - auc_4: 0.7611 - loss: 0.7991 - val_accuracy: 0.6625 - val_auc_4: 0.7331 - val_loss: 0.8081\n",
      "Epoch 16/30\n",
      "8/8 - 0s - 32ms/step - accuracy: 0.7500 - auc_4: 0.8301 - loss: 0.7369 - val_accuracy: 0.6750 - val_auc_4: 0.7647 - val_loss: 0.7779\n",
      "Epoch 17/30\n",
      "8/8 - 0s - 32ms/step - accuracy: 0.8042 - auc_4: 0.8692 - loss: 0.6802 - val_accuracy: 0.7125 - val_auc_4: 0.7856 - val_loss: 0.7484\n",
      "Epoch 18/30\n",
      "8/8 - 0s - 32ms/step - accuracy: 0.7375 - auc_4: 0.8285 - loss: 0.7002 - val_accuracy: 0.7375 - val_auc_4: 0.7812 - val_loss: 0.7606\n",
      "Epoch 19/30\n",
      "8/8 - 0s - 37ms/step - accuracy: 0.8500 - auc_4: 0.9008 - loss: 0.6116 - val_accuracy: 0.7000 - val_auc_4: 0.7781 - val_loss: 0.7895\n",
      "Epoch 20/30\n",
      "8/8 - 0s - 32ms/step - accuracy: 0.8208 - auc_4: 0.9053 - loss: 0.5926 - val_accuracy: 0.7375 - val_auc_4: 0.8103 - val_loss: 0.7349\n",
      "Epoch 21/30\n",
      "8/8 - 0s - 32ms/step - accuracy: 0.7708 - auc_4: 0.8858 - loss: 0.6093 - val_accuracy: 0.7750 - val_auc_4: 0.8288 - val_loss: 0.7058\n",
      "Epoch 22/30\n",
      "8/8 - 0s - 33ms/step - accuracy: 0.8292 - auc_4: 0.9296 - loss: 0.5331 - val_accuracy: 0.7250 - val_auc_4: 0.8444 - val_loss: 0.6943\n",
      "Epoch 23/30\n",
      "8/8 - 0s - 33ms/step - accuracy: 0.8417 - auc_4: 0.9236 - loss: 0.5353 - val_accuracy: 0.7750 - val_auc_4: 0.8419 - val_loss: 0.6881\n",
      "Epoch 24/30\n",
      "8/8 - 0s - 33ms/step - accuracy: 0.8792 - auc_4: 0.9346 - loss: 0.4965 - val_accuracy: 0.7500 - val_auc_4: 0.8503 - val_loss: 0.6914\n",
      "Epoch 25/30\n",
      "8/8 - 0s - 33ms/step - accuracy: 0.8458 - auc_4: 0.9279 - loss: 0.5098 - val_accuracy: 0.7125 - val_auc_4: 0.8559 - val_loss: 0.6929\n",
      "Epoch 26/30\n",
      "8/8 - 0s - 32ms/step - accuracy: 0.8708 - auc_4: 0.9500 - loss: 0.4672 - val_accuracy: 0.7875 - val_auc_4: 0.8603 - val_loss: 0.6497\n",
      "Epoch 27/30\n",
      "8/8 - 0s - 33ms/step - accuracy: 0.8833 - auc_4: 0.9474 - loss: 0.4606 - val_accuracy: 0.7750 - val_auc_4: 0.8575 - val_loss: 0.6658\n",
      "Epoch 28/30\n",
      "8/8 - 0s - 32ms/step - accuracy: 0.8792 - auc_4: 0.9538 - loss: 0.4458 - val_accuracy: 0.8000 - val_auc_4: 0.8675 - val_loss: 0.6411\n",
      "Epoch 29/30\n",
      "8/8 - 0s - 32ms/step - accuracy: 0.8542 - auc_4: 0.9475 - loss: 0.4592 - val_accuracy: 0.6250 - val_auc_4: 0.8537 - val_loss: 1.0301\n",
      "Epoch 30/30\n",
      "8/8 - 0s - 32ms/step - accuracy: 0.8167 - auc_4: 0.9155 - loss: 0.5389 - val_accuracy: 0.7250 - val_auc_4: 0.8544 - val_loss: 0.7093\n"
     ]
    }
   ],
   "source": [
    "history= model.fit(x_train, y_train, epochs=30, validation_data=(x_val, y_val),verbose=2)"
   ]
  },
  {
   "cell_type": "code",
   "execution_count": 96,
   "id": "b56f8f02-db16-47af-85a6-40938752e705",
   "metadata": {},
   "outputs": [],
   "source": [
    "# model.save_weights('CNN1(40).h5')\n",
    "# model.load_weights('CNN1(40).h5')"
   ]
  },
  {
   "cell_type": "code",
   "execution_count": 97,
   "id": "5a936a0b-f5db-4c94-a001-f7587d8c90fc",
   "metadata": {},
   "outputs": [
    {
     "data": {
      "image/png": "[encoded data removed]",
      "text/plain": [
       "<Figure size 640x480 with 1 Axes>"
      ]
     },
     "metadata": {},
     "output_type": "display_data"
    }
   ],
   "source": [
    "# print(model.predict(test_batches))\n",
    "fig = plt.figure()\n",
    "ax = fig.gca()\n",
    "ax.set_xticks(np.arange(0, 50, 2))\n",
    "ax.set_yticks(np.arange(0, 1., 0.1))\n",
    "plt.plot(history.history['accuracy'])\n",
    "plt.plot(history.history['val_accuracy'])\n",
    "plt.grid()\n",
    "plt.ylabel('accuracy')\n",
    "plt.xlabel('epoch')\n",
    "plt.legend(['train', 'validation'], loc='upper left')\n",
    "plt.title(\"Accuracy v/s epochs to choose number of epochs\")\n",
    "plt.savefig('CNN1.png', bbox_inches='tight')\n",
    "plt.show()"
   ]
  },
  {
   "cell_type": "code",
   "execution_count": 98,
   "id": "912d22ae-7e28-4bc4-a3b4-e8bbcbc8be00",
   "metadata": {},
   "outputs": [
    {
     "name": "stdout",
     "output_type": "stream",
     "text": [
      "\u001b[1m3/3\u001b[0m \u001b[32m━━━━━━━━━━━━━━━━━━━━\u001b[0m\u001b[37m\u001b[0m \u001b[1m0s\u001b[0m 9ms/step - accuracy: 0.7797 - auc_4: 0.9262 - loss: 0.5763 \n",
      "Test loss: 0.6151153445243835\n",
      "Test accuracy: 0.762499988079071\n"
     ]
    }
   ],
   "source": [
    "# Let’s evaluate our model performance\n",
    "score = model.evaluate(x_test,y_test)\n",
    "print('Test loss:', score[0])\n",
    "print('Test accuracy:', score[1])"
   ]
  },
  {
   "cell_type": "code",
   "execution_count": 99,
   "id": "c68aa00a-dcc0-4551-b57b-59a48ac0e1bb",
   "metadata": {},
   "outputs": [
    {
     "name": "stdout",
     "output_type": "stream",
     "text": [
      "\u001b[1m3/3\u001b[0m \u001b[32m━━━━━━━━━━━━━━━━━━━━\u001b[0m\u001b[37m\u001b[0m \u001b[1m0s\u001b[0m 16ms/step\n"
     ]
    },
    {
     "data": {
      "text/plain": [
       "array([1., 1., 0., 1., 1., 1., 1., 0., 0., 1., 0., 1., 1., 1., 0., 0., 1.,\n",
       "       1., 1., 0., 1., 0., 1., 1., 1., 1., 1., 0., 0., 1., 1., 1., 1., 1.,\n",
       "       1., 1., 0., 1., 1., 0., 1., 1., 1., 1., 1., 1., 1., 1., 0., 0., 1.,\n",
       "       1., 0., 1., 1., 1., 1., 1., 1., 0., 1., 1., 1., 1., 1., 0., 1., 0.,\n",
       "       1., 0., 1., 0., 0., 1., 1., 0., 0., 1., 1., 1.], dtype=float32)"
      ]
     },
     "execution_count": 99,
     "metadata": {},
     "output_type": "execute_result"
    }
   ],
   "source": [
    "y_pred = model.predict(x_test)\n",
    "y_pred[y_pred <= 0.5] = 0\n",
    "y_pred[y_pred > 0.5] = 1\n",
    "y_pred.reshape(-1)"
   ]
  },
  {
   "cell_type": "code",
   "execution_count": 100,
   "id": "32df1e3d-3927-4ab5-87d5-b9129d16eceb",
   "metadata": {},
   "outputs": [
    {
     "data": {
      "text/plain": [
       "array([1, 1, 0, 0, 1, 1, 0, 0, 0, 1, 1, 0, 1, 1, 0, 0, 1, 1, 1, 0, 1, 0,\n",
       "       1, 1, 1, 0, 0, 0, 0, 1, 1, 1, 1, 1, 1, 0, 0, 0, 1, 0, 0, 1, 1, 1,\n",
       "       1, 1, 1, 1, 0, 0, 0, 1, 0, 0, 1, 1, 1, 1, 0, 0, 1, 0, 1, 0, 1, 0,\n",
       "       0, 0, 1, 0, 1, 0, 0, 0, 0, 0, 0, 0, 0, 1])"
      ]
     },
     "execution_count": 100,
     "metadata": {},
     "output_type": "execute_result"
    }
   ],
   "source": [
    "y_test"
   ]
  },
  {
   "cell_type": "code",
   "execution_count": null,
   "id": "fa2bd63b-c94c-4da9-8ea9-5332eb5a5da4",
   "metadata": {},
   "outputs": [],
   "source": []
  }
 ],
 "metadata": {
  "kernelspec": {
   "display_name": "Python 3 (ipykernel)",
   "language": "python",
   "name": "python3"
  },
  "language_info": {
   "codemirror_mode": {
    "name": "ipython",
    "version": 3
   },
   "file_extension": ".py",
   "mimetype": "text/x-python",
   "name": "python",
   "nbconvert_exporter": "python",
   "pygments_lexer": "ipython3",
   "version": "3.11.7"
  }
 },
 "nbformat": 4,
 "nbformat_minor": 5
}
